{
 "cells": [
  {
   "cell_type": "markdown",
   "metadata": {},
   "source": [
    "### Just an untidy showing of how I cleaned up the dataset"
   ]
  },
  {
   "cell_type": "code",
   "execution_count": 1,
   "metadata": {},
   "outputs": [],
   "source": [
    "import pandas as pd"
   ]
  },
  {
   "cell_type": "code",
   "execution_count": 27,
   "metadata": {},
   "outputs": [],
   "source": [
    "# train_original.csv was a copy of the original dataset\n",
    "df = pd.read_csv(\"train_original.csv\", sep='\\t', header=None, names=['Emotion', 'Text'])"
   ]
  },
  {
   "cell_type": "code",
   "execution_count": 28,
   "metadata": {},
   "outputs": [],
   "source": [
    "df = pd.DataFrame(df)"
   ]
  },
  {
   "cell_type": "code",
   "execution_count": 29,
   "metadata": {},
   "outputs": [
    {
     "data": {
      "text/plain": [
       "Emotion    149967\n",
       "Text       149967\n",
       "dtype: int64"
      ]
     },
     "execution_count": 29,
     "metadata": {},
     "output_type": "execute_result"
    }
   ],
   "source": [
    "df.count()"
   ]
  },
  {
   "cell_type": "code",
   "execution_count": 30,
   "metadata": {},
   "outputs": [],
   "source": [
    "## clean quotations\n",
    "for i, col in enumerate(df.columns):\n",
    "    df.iloc[:, i] = df.iloc[:, i].str.replace('\"', '')"
   ]
  },
  {
   "cell_type": "code",
   "execution_count": 33,
   "metadata": {},
   "outputs": [
    {
     "name": "stderr",
     "output_type": "stream",
     "text": [
      "C:\\Users\\Marvin\\AppData\\Local\\Temp\\ipykernel_13424\\3981043343.py:3: FutureWarning: The default value of regex will change from True to False in a future version.\n",
      "  df.iloc[:, i] = df.iloc[:, i].str.replace('http://url.removed', 'URL')\n",
      "C:\\Users\\Marvin\\AppData\\Local\\Temp\\ipykernel_13424\\3981043343.py:3: FutureWarning: The default value of regex will change from True to False in a future version.\n",
      "  df.iloc[:, i] = df.iloc[:, i].str.replace('http://url.removed', 'URL')\n"
     ]
    }
   ],
   "source": [
    "## shorten URL\n",
    "for i, col in enumerate(df.columns):\n",
    "    df.iloc[:, i] = df.iloc[:, i].str.replace('http://url.removed', 'URL')"
   ]
  },
  {
   "cell_type": "code",
   "execution_count": 34,
   "metadata": {},
   "outputs": [],
   "source": [
    "# Save to another file, please ignore the names, I tried stuff out\n",
    "df.to_csv(\"train_cleanFull2.csv\", sep='\\t', header=None, index=False)"
   ]
  },
  {
   "cell_type": "code",
   "execution_count": null,
   "metadata": {},
   "outputs": [],
   "source": []
  }
 ],
 "metadata": {
  "interpreter": {
   "hash": "f023131bb023f1ae04977aaae15cbf123e8390d10c2978abe9513e722052493c"
  },
  "kernelspec": {
   "display_name": "Python 3.9.7 64-bit",
   "language": "python",
   "name": "python3"
  },
  "language_info": {
   "codemirror_mode": {
    "name": "ipython",
    "version": 3
   },
   "file_extension": ".py",
   "mimetype": "text/x-python",
   "name": "python",
   "nbconvert_exporter": "python",
   "pygments_lexer": "ipython3",
   "version": "3.9.7"
  },
  "orig_nbformat": 4
 },
 "nbformat": 4,
 "nbformat_minor": 2
}
